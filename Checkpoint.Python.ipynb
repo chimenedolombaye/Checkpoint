{
 "cells": [
  {
   "cell_type": "code",
   "execution_count": 13,
   "metadata": {},
   "outputs": [
    {
     "name": "stdout",
     "output_type": "stream",
     "text": [
      "Entrez votre choix (Ajouter, Supprimer, Afficher, Quitter): Ajouter\n",
      "Entrez l'élément à ajouter dans la liste de course : Vitesse\n",
      "Vitesse a été ajouté à la liste de course.\n",
      "Entrez votre choix (Ajouter, Supprimer, Afficher, Quitter): AJouter\n",
      "Choix invalide. Veuillez choisir parmi Ajouter, Supprimer, Afficher, ou Quitter.\n",
      "Entrez votre choix (Ajouter, Supprimer, Afficher, Quitter): Ligne\n",
      "Choix invalide. Veuillez choisir parmi Ajouter, Supprimer, Afficher, ou Quitter.\n",
      "Entrez votre choix (Ajouter, Supprimer, Afficher, Quitter): Ajouter\n",
      "Entrez l'élément à ajouter dans la liste de course : Ligne\n",
      "Ligne a été ajouté à la liste de course.\n",
      "Entrez votre choix (Ajouter, Supprimer, Afficher, Quitter): Afficher\n",
      "Liste de course :\n",
      "Vitesse\n",
      "Ligne\n",
      "Entrez votre choix (Ajouter, Supprimer, Afficher, Quitter): Quitter\n"
     ]
    }
   ],
   "source": [
    "shopping_list = []\n",
    "\n",
    "while True:\n",
    "    choice = input(\"Entrez votre choix (Ajouter, Supprimer, Afficher, Quitter): \")\n",
    "    \n",
    "    if choice == 'Ajouter':\n",
    "        item = input(\"Entrez l'élément à ajouter dans la liste de course : \")\n",
    "        shopping_list.append(item)\n",
    "        print(f\"{item} a été ajouté à la liste de course.\")\n",
    "    elif choice == 'Supprimer':\n",
    "        item = input(\"Entrez l'élément à supprimer de la liste de course : \")\n",
    "        if item in shopping_list:\n",
    "            shopping_list.remove(item)\n",
    "            print(f\"{item} a été supprimé de la liste de course.\")\n",
    "        else:\n",
    "            print(f\"{item} n'est pas dans la liste de course.\")\n",
    "    elif choice == 'Afficher':\n",
    "        if shopping_list:\n",
    "            print(\"Liste de course :\")\n",
    "            for item in shopping_list:\n",
    "                print(item)\n",
    "        else:\n",
    "            print(\"La liste de course est vide.\")\n",
    "    elif choice == 'Quitter':\n",
    "        break  \n",
    "    else:\n",
    "        print(\"Choix invalide. Veuillez choisir parmi Ajouter, Supprimer, Afficher, ou Quitter.\")\n",
    "\n"
   ]
  },
  {
   "cell_type": "code",
   "execution_count": null,
   "metadata": {},
   "outputs": [],
   "source": []
  }
 ],
 "metadata": {
  "kernelspec": {
   "display_name": "Python 3",
   "language": "python",
   "name": "python3"
  },
  "language_info": {
   "codemirror_mode": {
    "name": "ipython",
    "version": 3
   },
   "file_extension": ".py",
   "mimetype": "text/x-python",
   "name": "python",
   "nbconvert_exporter": "python",
   "pygments_lexer": "ipython3",
   "version": "3.8.3"
  }
 },
 "nbformat": 4,
 "nbformat_minor": 4
}
